{
 "cells": [
  {
   "cell_type": "code",
   "execution_count": 1,
   "id": "56dc4e82-bbb6-4f51-b141-89a5e581d3ea",
   "metadata": {},
   "outputs": [],
   "source": [
    "#Import librareies\n",
    "import pandas as pd\n",
    "import numpy as np\n",
    "import re"
   ]
  },
  {
   "cell_type": "code",
   "execution_count": 2,
   "id": "0b508b55-e3d6-4927-acc6-941e46529394",
   "metadata": {},
   "outputs": [],
   "source": [
    "#Create new list \n",
    "liste = [\"Tugay Yolu Cad. No:60 12537489122 Maltepe\",\n",
    "         \"İnkılap Mah. 88372637771 Küçüksu Cd. No 6 Ümraniye\",\n",
    "         \"11293888122 Soğanlık Mah. Muş Sk. No 63 Kartal\",\n",
    "         \"Bilezikçi sk 147 Şişli İstanbul 12229386\"]"
   ]
  },
  {
   "cell_type": "code",
   "execution_count": 3,
   "id": "d510669e-a49d-4a4b-a230-60213f215123",
   "metadata": {},
   "outputs": [
    {
     "data": {
      "text/html": [
       "<div>\n",
       "<style scoped>\n",
       "    .dataframe tbody tr th:only-of-type {\n",
       "        vertical-align: middle;\n",
       "    }\n",
       "\n",
       "    .dataframe tbody tr th {\n",
       "        vertical-align: top;\n",
       "    }\n",
       "\n",
       "    .dataframe thead th {\n",
       "        text-align: right;\n",
       "    }\n",
       "</style>\n",
       "<table border=\"1\" class=\"dataframe\">\n",
       "  <thead>\n",
       "    <tr style=\"text-align: right;\">\n",
       "      <th></th>\n",
       "      <th>Veri</th>\n",
       "    </tr>\n",
       "  </thead>\n",
       "  <tbody>\n",
       "    <tr>\n",
       "      <th>0</th>\n",
       "      <td>Tugay Yolu Cad. No:60 12537489122 Maltepe</td>\n",
       "    </tr>\n",
       "    <tr>\n",
       "      <th>1</th>\n",
       "      <td>İnkılap Mah. 88372637771 Küçüksu Cd. No 6 Ümra...</td>\n",
       "    </tr>\n",
       "    <tr>\n",
       "      <th>2</th>\n",
       "      <td>11293888122 Soğanlık Mah. Muş Sk. No 63 Kartal</td>\n",
       "    </tr>\n",
       "    <tr>\n",
       "      <th>3</th>\n",
       "      <td>Bilezikçi sk 147 Şişli İstanbul 12229386</td>\n",
       "    </tr>\n",
       "  </tbody>\n",
       "</table>\n",
       "</div>"
      ],
      "text/plain": [
       "                                                Veri\n",
       "0          Tugay Yolu Cad. No:60 12537489122 Maltepe\n",
       "1  İnkılap Mah. 88372637771 Küçüksu Cd. No 6 Ümra...\n",
       "2     11293888122 Soğanlık Mah. Muş Sk. No 63 Kartal\n",
       "3           Bilezikçi sk 147 Şişli İstanbul 12229386"
      ]
     },
     "execution_count": 3,
     "metadata": {},
     "output_type": "execute_result"
    }
   ],
   "source": [
    "#Convert to dataframe\n",
    "df = pd.DataFrame(liste, columns = [\"Veri\"])\n",
    "df"
   ]
  },
  {
   "cell_type": "code",
   "execution_count": 4,
   "id": "12288a2a-ea15-4e9b-ae46-7cb46b5fbd0b",
   "metadata": {},
   "outputs": [],
   "source": [
    "#Create new def for separate adresses and identity number\n",
    "def query(txt):\n",
    "    new_result = re.findall('[0-9]+', txt)\n",
    "    boo = False\n",
    "    for i in new_result:\n",
    "        if len(str(i)) == 11:\n",
    "            txt = txt.replace(i,\"\")\n",
    "            print(i + \"\\n\" + txt)\n",
    "            boo = True\n",
    "    if boo == False:\n",
    "        print(\"TC Kimlik bilgisi mevcut değil\" + \"\\n\" + txt)"
   ]
  },
  {
   "cell_type": "code",
   "execution_count": 5,
   "id": "b5eefb65-29d0-4297-aac8-a304b2eac2b7",
   "metadata": {},
   "outputs": [
    {
     "name": "stdout",
     "output_type": "stream",
     "text": [
      "88372637771\n",
      "İnkılap Mah.  Küçüksu Cd. No 6 Ümraniye\n"
     ]
    }
   ],
   "source": [
    "#Look def \n",
    "query(df[\"Veri\"][1])"
   ]
  }
 ],
 "metadata": {
  "kernelspec": {
   "display_name": "Python 3 (ipykernel)",
   "language": "python",
   "name": "python3"
  },
  "language_info": {
   "codemirror_mode": {
    "name": "ipython",
    "version": 3
   },
   "file_extension": ".py",
   "mimetype": "text/x-python",
   "name": "python",
   "nbconvert_exporter": "python",
   "pygments_lexer": "ipython3",
   "version": "3.9.7"
  }
 },
 "nbformat": 4,
 "nbformat_minor": 5
}
